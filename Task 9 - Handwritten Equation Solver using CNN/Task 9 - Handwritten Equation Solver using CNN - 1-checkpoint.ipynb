{
 "cells": [
  {
   "cell_type": "markdown",
   "id": "dc818f11",
   "metadata": {},
   "source": [
    "<h1><center>LGMVIP - Data Science</center></h1>\n",
    "<h2><center>Task 9 - Handwritten Equation Solver using CNN (Advanced Level)</center></h2>\n",
    "<h3><center>Author : Akshay Paunikar</center></h3>"
   ]
  },
  {
   "cell_type": "code",
   "execution_count": 1,
   "id": "27a9b0bb",
   "metadata": {},
   "outputs": [],
   "source": [
    "# Import required libraries\n",
    "import numpy as np\n",
    "import pandas as pd\n",
    "from PIL import Image\n",
    "import os\n",
    "from os import listdir\n",
    "from os.path import isfile, join\n",
    "import cv2"
   ]
  },
  {
   "cell_type": "markdown",
   "id": "b7981119",
   "metadata": {},
   "source": [
    "Our data has different folders containing images for different maths symbol. For simplicity, we are using 0–9 digits and symbols +, -, times, div. "
   ]
  },
  {
   "cell_type": "markdown",
   "id": "879c0679",
   "metadata": {},
   "source": [
    "Now we will define a function which will load images from our data folder."
   ]
  },
  {
   "cell_type": "markdown",
   "id": "1446c225",
   "metadata": {},
   "source": [
    "<h4>Extract Features :</h4> We will use contour extraction to obtain features.<br>\n",
    "    1. First we will invert the image and then convert it to binary image as contour extraction gives the best result when the object is white and surrounding is black.<br>\n",
    "    2. To find contours use ‘findContour’ function. For features, we obtain the bounding rectangle of contour using ‘boundingRect’ function (Bounding rectangle is the smallest horizontal rectangle enclosing the entire contour).<br>\n",
    "    3. Since each image in our dataset contains only one symbol/digit, we only need the bounding rectangle of maximum size. For this purpose, we calculate the area of the bounding rectangle of each contour and select the rectangle with maximum area.<br>\n",
    "    4. Now, resize the maximum area bounding rectangle to 28 by 28. Reshape it to 784 by 1. So there will be now 784-pixel values or features. Now, give the corresponding label to it (For e.g, for 0–9 images same label as their digit, for — assign label 10, for + assign label 11, for * assign label 12 and for / assign label 13). So now our dataset contains 784 features column and one label column. After extracting features, save the data to a CSV file."
   ]
  },
  {
   "cell_type": "code",
   "execution_count": 6,
   "id": "73873974",
   "metadata": {},
   "outputs": [],
   "source": [
    "def load_images(folder):\n",
    "    train_data=[]\n",
    "    for filename in os.listdir(folder):\n",
    "        image = cv2.imread(os.path.join(folder,filename),cv2.IMREAD_GRAYSCALE)\n",
    "        image=~image\n",
    "        if image is not None:\n",
    "            ret, thresh = cv2.threshold(image,127,255,cv2.THRESH_BINARY)\n",
    "            contours, hierarchy = cv2.findContours(thresh,cv2.RETR_EXTERNAL,cv2.CHAIN_APPROX_NONE)\n",
    "            contour = sorted(contours, key = lambda ctr: cv2.boundingRect(ctr)[0])\n",
    "            a = int(28)\n",
    "            b = int(28)\n",
    "            maxi = 0\n",
    "            for c in contour:\n",
    "                x,y,a,b=cv2.boundingRect(c)\n",
    "                maxi=max(a*b,maxi)\n",
    "                if maxi==a*b:\n",
    "                    x_max=x\n",
    "                    y_max=y\n",
    "                    w_max=a\n",
    "                    h_max=b\n",
    "            im_crop = thresh[y_max:y_max+h_max+10, x_max:x_max+w_max+10]\n",
    "            im_resize = cv2.resize(im_crop,(28,28))\n",
    "            im_resize = np.reshape(im_resize,(784,1))\n",
    "            train_data.append(im_resize)\n",
    "    return train_data"
   ]
  },
  {
   "cell_type": "code",
   "execution_count": 7,
   "id": "aee3b7fd",
   "metadata": {},
   "outputs": [],
   "source": [
    "data = []"
   ]
  },
  {
   "cell_type": "code",
   "execution_count": 8,
   "id": "37331db8",
   "metadata": {},
   "outputs": [
    {
     "name": "stdout",
     "output_type": "stream",
     "text": [
      "6914\n"
     ]
    }
   ],
   "source": [
    "# Assign \"0\" = 0\n",
    "data = load_images(r\"E:\\LetsGrowMore\\Tasks\\Task 9 - Handwritten Equation Solver using CNN\\data\\extracted_images\\0\")\n",
    "for i in range(0, len(data)):\n",
    "    data[i] = np.append(data[i], ['0'])\n",
    "print(len(data))"
   ]
  },
  {
   "cell_type": "code",
   "execution_count": 9,
   "id": "469ef30f",
   "metadata": {},
   "outputs": [
    {
     "name": "stdout",
     "output_type": "stream",
     "text": [
      "33434\n"
     ]
    }
   ],
   "source": [
    "# Assign \"1\" = 1\n",
    "data1 = load_images(r\"E:\\LetsGrowMore\\Tasks\\Task 9 - Handwritten Equation Solver using CNN\\data\\extracted_images\\1\")\n",
    "for i in range(0, len(data1)):\n",
    "    data1[i] = np.append(data1[i], ['1'])\n",
    "data = np.concatenate((data, data1))\n",
    "print(len(data))"
   ]
  },
  {
   "cell_type": "code",
   "execution_count": 10,
   "id": "b6b8a8ce",
   "metadata": {},
   "outputs": [
    {
     "name": "stdout",
     "output_type": "stream",
     "text": [
      "59575\n"
     ]
    }
   ],
   "source": [
    "# Assign \"2\" = 2\n",
    "data2 = load_images(r\"E:\\LetsGrowMore\\Tasks\\Task 9 - Handwritten Equation Solver using CNN\\data\\extracted_images\\2\")\n",
    "for i in range(0, len(data2)):\n",
    "    data2[i] = np.append(data2[i], ['2'])\n",
    "data = np.concatenate((data, data2))\n",
    "print(len(data))"
   ]
  },
  {
   "cell_type": "code",
   "execution_count": 11,
   "id": "31728270",
   "metadata": {},
   "outputs": [
    {
     "name": "stdout",
     "output_type": "stream",
     "text": [
      "70484\n"
     ]
    }
   ],
   "source": [
    "# Assign \"3\" = 3\n",
    "data3 = load_images(r\"E:\\LetsGrowMore\\Tasks\\Task 9 - Handwritten Equation Solver using CNN\\data\\extracted_images\\3\")\n",
    "for i in range(0, len(data3)):\n",
    "    data3[i] = np.append(data3[i], ['3'])\n",
    "data = np.concatenate((data, data3))\n",
    "print(len(data))"
   ]
  },
  {
   "cell_type": "code",
   "execution_count": 12,
   "id": "2237b4cf",
   "metadata": {},
   "outputs": [
    {
     "name": "stdout",
     "output_type": "stream",
     "text": [
      "77880\n"
     ]
    }
   ],
   "source": [
    "# Assign \"4\" = 4\n",
    "data4 = load_images(r\"E:\\LetsGrowMore\\Tasks\\Task 9 - Handwritten Equation Solver using CNN\\data\\extracted_images\\4\")\n",
    "for i in range(0, len(data4)):\n",
    "    data4[i] = np.append(data4[i], ['4'])\n",
    "data = np.concatenate((data, data4))\n",
    "print(len(data))"
   ]
  },
  {
   "cell_type": "code",
   "execution_count": 13,
   "id": "d523643e",
   "metadata": {},
   "outputs": [
    {
     "name": "stdout",
     "output_type": "stream",
     "text": [
      "81425\n"
     ]
    }
   ],
   "source": [
    "# Assign \"5\" = 5\n",
    "data5 = load_images(r\"E:\\LetsGrowMore\\Tasks\\Task 9 - Handwritten Equation Solver using CNN\\data\\extracted_images\\5\")\n",
    "for i in range(0, len(data5)):\n",
    "    data5[i] = np.append(data5[i], ['5'])\n",
    "data = np.concatenate((data, data5))\n",
    "print(len(data))"
   ]
  },
  {
   "cell_type": "code",
   "execution_count": 14,
   "id": "1a747e42",
   "metadata": {},
   "outputs": [
    {
     "name": "stdout",
     "output_type": "stream",
     "text": [
      "84543\n"
     ]
    }
   ],
   "source": [
    "# Assign \"6\" = 6\n",
    "data6 = load_images(r\"E:\\LetsGrowMore\\Tasks\\Task 9 - Handwritten Equation Solver using CNN\\data\\extracted_images\\6\")\n",
    "for i in range(0, len(data6)):\n",
    "    data6[i] = np.append(data6[i], ['6'])\n",
    "data = np.concatenate((data, data6))\n",
    "print(len(data))"
   ]
  },
  {
   "cell_type": "code",
   "execution_count": 15,
   "id": "192a2553",
   "metadata": {},
   "outputs": [
    {
     "name": "stdout",
     "output_type": "stream",
     "text": [
      "87452\n"
     ]
    }
   ],
   "source": [
    "# Assign \"7\" = 7\n",
    "data7 = load_images(r\"E:\\LetsGrowMore\\Tasks\\Task 9 - Handwritten Equation Solver using CNN\\data\\extracted_images\\7\")\n",
    "for i in range(0, len(data7)):\n",
    "    data7[i] = np.append(data7[i], ['7'])\n",
    "data = np.concatenate((data, data7))\n",
    "print(len(data))"
   ]
  },
  {
   "cell_type": "code",
   "execution_count": 16,
   "id": "fecd368b",
   "metadata": {},
   "outputs": [
    {
     "name": "stdout",
     "output_type": "stream",
     "text": [
      "90520\n"
     ]
    }
   ],
   "source": [
    "# Assign \"8\" = 8\n",
    "data8 = load_images(r\"E:\\LetsGrowMore\\Tasks\\Task 9 - Handwritten Equation Solver using CNN\\data\\extracted_images\\8\")\n",
    "for i in range(0, len(data8)):\n",
    "    data8[i] = np.append(data8[i], ['8'])\n",
    "data = np.concatenate((data, data8))\n",
    "print(len(data))"
   ]
  },
  {
   "cell_type": "code",
   "execution_count": 17,
   "id": "ef24d531",
   "metadata": {},
   "outputs": [
    {
     "name": "stdout",
     "output_type": "stream",
     "text": [
      "94257\n"
     ]
    }
   ],
   "source": [
    "# Assign \"9\" = 9\n",
    "data9 = load_images(r\"E:\\LetsGrowMore\\Tasks\\Task 9 - Handwritten Equation Solver using CNN\\data\\extracted_images\\9\")\n",
    "for i in range(0, len(data9)):\n",
    "    data9[i] = np.append(data9[i], ['9'])\n",
    "data = np.concatenate((data, data9))\n",
    "print(len(data))"
   ]
  },
  {
   "cell_type": "code",
   "execution_count": 18,
   "id": "ae40b168",
   "metadata": {},
   "outputs": [
    {
     "name": "stdout",
     "output_type": "stream",
     "text": [
      "128254\n"
     ]
    }
   ],
   "source": [
    "# Assign \"-\" = 10\n",
    "data10 = load_images(r\"E:\\LetsGrowMore\\Tasks\\Task 9 - Handwritten Equation Solver using CNN\\data\\extracted_images\\-\")\n",
    "for i in range(0, len(data10)):\n",
    "    data10[i] = np.append(data10[i], ['10'])\n",
    "data = np.concatenate((data, data10))\n",
    "print(len(data))"
   ]
  },
  {
   "cell_type": "code",
   "execution_count": 19,
   "id": "40d76602",
   "metadata": {},
   "outputs": [
    {
     "name": "stdout",
     "output_type": "stream",
     "text": [
      "153366\n"
     ]
    }
   ],
   "source": [
    "# Assign \"+\" = 11\n",
    "data11 = load_images(r\"E:\\LetsGrowMore\\Tasks\\Task 9 - Handwritten Equation Solver using CNN\\data\\extracted_images\\+\")\n",
    "for i in range(0, len(data11)):\n",
    "    data11[i] = np.append(data11[i], ['11'])\n",
    "data = np.concatenate((data, data11))\n",
    "print(len(data))"
   ]
  },
  {
   "cell_type": "code",
   "execution_count": 20,
   "id": "ba15995d",
   "metadata": {},
   "outputs": [
    {
     "name": "stdout",
     "output_type": "stream",
     "text": [
      "156617\n"
     ]
    }
   ],
   "source": [
    "# Assign \"*\" = 12\n",
    "data12 = load_images(r\"E:\\LetsGrowMore\\Tasks\\Task 9 - Handwritten Equation Solver using CNN\\data\\extracted_images\\times\")\n",
    "for i in range(0, len(data12)):\n",
    "    data12[i] = np.append(data12[i], ['12'])\n",
    "data = np.concatenate((data, data12))\n",
    "print(len(data))"
   ]
  },
  {
   "cell_type": "code",
   "execution_count": 21,
   "id": "da8bb2a9",
   "metadata": {},
   "outputs": [
    {
     "name": "stdout",
     "output_type": "stream",
     "text": [
      "157485\n"
     ]
    }
   ],
   "source": [
    "# Assign \"/\" = 13\n",
    "data13 = load_images(r\"E:\\LetsGrowMore\\Tasks\\Task 9 - Handwritten Equation Solver using CNN\\data\\extracted_images\\div\")\n",
    "for i in range(0, len(data13)):\n",
    "    data13[i] = np.append(data13[i], ['13'])\n",
    "data = np.concatenate((data, data13))\n",
    "print(len(data))"
   ]
  },
  {
   "cell_type": "code",
   "execution_count": 37,
   "id": "1e191cdb",
   "metadata": {},
   "outputs": [],
   "source": [
    "# Save the dataframe\n",
    "# data_frame = pd.DataFrame(data, index=None)\n",
    "# data_frame.to_csv(\"traindata.csv\", index=False)"
   ]
  }
 ],
 "metadata": {
  "kernelspec": {
   "display_name": "Python 3 (ipykernel)",
   "language": "python",
   "name": "python3"
  },
  "language_info": {
   "codemirror_mode": {
    "name": "ipython",
    "version": 3
   },
   "file_extension": ".py",
   "mimetype": "text/x-python",
   "name": "python",
   "nbconvert_exporter": "python",
   "pygments_lexer": "ipython3",
   "version": "3.9.12"
  }
 },
 "nbformat": 4,
 "nbformat_minor": 5
}
